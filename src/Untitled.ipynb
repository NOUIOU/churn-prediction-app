{
 "cells": [
  {
   "cell_type": "code",
   "execution_count": 6,
   "id": "2666bb16",
   "metadata": {},
   "outputs": [
    {
     "name": "stdout",
     "output_type": "stream",
     "text": [
      "                Accuracy  Recall  Roc_Auc  Precision\n",
      "CatBoost_Model    0.7764  0.8262   0.7923     0.5528\n"
     ]
    }
   ],
   "source": [
    "!python ./train_model.py"
   ]
  },
  {
   "cell_type": "code",
   "execution_count": 1,
   "id": "0ee25bed",
   "metadata": {},
   "outputs": [
    {
     "name": "stdout",
     "output_type": "stream",
     "text": [
      "^C\n"
     ]
    }
   ],
   "source": [
    "!streamlit run ./streamlit-app.py"
   ]
  },
  {
   "cell_type": "code",
   "execution_count": null,
   "id": "5ddd498e",
   "metadata": {},
   "outputs": [],
   "source": [
    "!python ./predict.py"
   ]
  }
 ],
 "metadata": {
  "kernelspec": {
   "display_name": "Python 3 (ipykernel)",
   "language": "python",
   "name": "python3"
  },
  "language_info": {
   "codemirror_mode": {
    "name": "ipython",
    "version": 3
   },
   "file_extension": ".py",
   "mimetype": "text/x-python",
   "name": "python",
   "nbconvert_exporter": "python",
   "pygments_lexer": "ipython3",
   "version": "3.11.5"
  }
 },
 "nbformat": 4,
 "nbformat_minor": 5
}
